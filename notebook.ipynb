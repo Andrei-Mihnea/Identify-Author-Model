{
 "cells": [
  {
   "metadata": {},
   "cell_type": "markdown",
   "source": [
    "# This is a sample Jupyter Notebook\n",
    "\n",
    "Below is an example of a code cell. \n",
    "Put your cursor into the cell and press Shift+Enter to execute it and select the next one, or click 'Run Cell' button.\n",
    "\n",
    "Press Double Shift to search everywhere for classes, files, tool windows, actions, and settings.\n",
    "\n",
    "To learn more about Jupyter Notebooks in PyCharm, see [help](https://www.jetbrains.com/help/pycharm/ipython-notebook-support.html).\n",
    "For an overview of PyCharm, go to Help -> Learn IDE features or refer to [our documentation](https://www.jetbrains.com/help/pycharm/getting-started.html)."
   ],
   "id": "8a77807f92f26ee"
  },
  {
   "metadata": {
    "ExecuteTime": {
     "end_time": "2025-07-18T22:08:14.540951Z",
     "start_time": "2025-07-18T22:08:14.539088Z"
    }
   },
   "cell_type": "code",
   "source": [
    "import nltk #library for natural language toolkit\n",
    "import pandas as pd\n",
    "# nltk.download('punkt') ## run in case of punkt and puknkt_tab error when calculcating the frequency\n",
    "# nltk.download('punkt_tab')"
   ],
   "id": "fbc121e30a2defb3",
   "outputs": [],
   "execution_count": 9
  },
  {
   "metadata": {
    "ExecuteTime": {
     "end_time": "2025-07-18T22:08:14.576045Z",
     "start_time": "2025-07-18T22:08:14.549442Z"
    }
   },
   "cell_type": "code",
   "source": [
    "#Importing data from .csv (the train.csv file in this case)\n",
    "\n",
    "texts  = pd.read_csv('Data/train/train.csv')\n",
    "texts.head()\n"
   ],
   "id": "f8379a2452858d89",
   "outputs": [
    {
     "data": {
      "text/plain": [
       "        id                                               text author\n",
       "0  id26305  This process, however, afforded me no means of...    EAP\n",
       "1  id17569  It never once occurred to me that the fumbling...    HPL\n",
       "2  id11008  In his left hand was a gold snuff box, from wh...    EAP\n",
       "3  id27763  How lovely is spring As we looked from Windsor...    MWS\n",
       "4  id12958  Finding nothing else, not even gold, the Super...    HPL"
      ],
      "text/html": [
       "<div>\n",
       "<style scoped>\n",
       "    .dataframe tbody tr th:only-of-type {\n",
       "        vertical-align: middle;\n",
       "    }\n",
       "\n",
       "    .dataframe tbody tr th {\n",
       "        vertical-align: top;\n",
       "    }\n",
       "\n",
       "    .dataframe thead th {\n",
       "        text-align: right;\n",
       "    }\n",
       "</style>\n",
       "<table border=\"1\" class=\"dataframe\">\n",
       "  <thead>\n",
       "    <tr style=\"text-align: right;\">\n",
       "      <th></th>\n",
       "      <th>id</th>\n",
       "      <th>text</th>\n",
       "      <th>author</th>\n",
       "    </tr>\n",
       "  </thead>\n",
       "  <tbody>\n",
       "    <tr>\n",
       "      <th>0</th>\n",
       "      <td>id26305</td>\n",
       "      <td>This process, however, afforded me no means of...</td>\n",
       "      <td>EAP</td>\n",
       "    </tr>\n",
       "    <tr>\n",
       "      <th>1</th>\n",
       "      <td>id17569</td>\n",
       "      <td>It never once occurred to me that the fumbling...</td>\n",
       "      <td>HPL</td>\n",
       "    </tr>\n",
       "    <tr>\n",
       "      <th>2</th>\n",
       "      <td>id11008</td>\n",
       "      <td>In his left hand was a gold snuff box, from wh...</td>\n",
       "      <td>EAP</td>\n",
       "    </tr>\n",
       "    <tr>\n",
       "      <th>3</th>\n",
       "      <td>id27763</td>\n",
       "      <td>How lovely is spring As we looked from Windsor...</td>\n",
       "      <td>MWS</td>\n",
       "    </tr>\n",
       "    <tr>\n",
       "      <th>4</th>\n",
       "      <td>id12958</td>\n",
       "      <td>Finding nothing else, not even gold, the Super...</td>\n",
       "      <td>HPL</td>\n",
       "    </tr>\n",
       "  </tbody>\n",
       "</table>\n",
       "</div>"
      ]
     },
     "execution_count": 10,
     "metadata": {},
     "output_type": "execute_result"
    }
   ],
   "execution_count": 10
  },
  {
   "metadata": {
    "ExecuteTime": {
     "end_time": "2025-07-18T22:08:15.515875Z",
     "start_time": "2025-07-18T22:08:14.604659Z"
    }
   },
   "cell_type": "code",
   "source": [
    "#grouping by author\n",
    "byAuthor = texts.groupby('author')\n",
    "\n",
    "#frequency by author\n",
    "wordFreqByAuthor = nltk.probability.ConditionalFreqDist()\n",
    "\n",
    "for name, group in byAuthor:\n",
    "    '''\n",
    "    transforming all the sentences from an author into one string\n",
    "    helps us get the frequency of a word\n",
    "    '''\n",
    "    sentence = group['text'].str.cat(sep = ' ')\n",
    "\n",
    "    '''\n",
    "    lowering the string so we don't encounter issues if\n",
    "    words are written with an capital letter or not\n",
    "    '''\n",
    "    sentence = sentence.lower()\n",
    "\n",
    "    #splitting the sentence into words(tokens)\n",
    "    tokens = nltk.tokenize.word_tokenize(sentence)\n",
    "\n",
    "    #caluclate the frequency of every word(token)\n",
    "    frequency = nltk.FreqDist(tokens)\n",
    "\n",
    "    #add the frequency for each author to our dictionary\n",
    "    wordFreqByAuthor[name] = frequency\n"
   ],
   "id": "eee9b799679bbf0a",
   "outputs": [],
   "execution_count": 11
  },
  {
   "metadata": {
    "ExecuteTime": {
     "end_time": "2025-07-18T22:17:45.599204Z",
     "start_time": "2025-07-18T22:17:45.588688Z"
    }
   },
   "cell_type": "code",
   "source": [
    "#test\n",
    "testSentence = \"It was a dark and stormy night.\"\n",
    "\n",
    "#tokenizing our sentence\n",
    "preProcessedTestSentence = nltk.tokenize.word_tokenize(testSentence.lower())\n",
    "\n",
    "#create an empty DataFrame\n",
    "testProbabilities = pd.DataFrame(columns = ['author','word','probability'])\n",
    "\n",
    "#iterating trough every author\n",
    "for i in wordFreqByAuthor.keys():\n",
    "    #iterating trough every word of the test sentence\n",
    "    for j in preProcessedTestSentence:\n",
    "        #frequency of the respective word\n",
    "        wordFreq = wordFreqByAuthor[i].freq(j)\n",
    "        #adding a small amount for every probability so none is 0\n",
    "        smoothedWordFreq = wordFreq + 0.00001\n",
    "\n",
    "        #making an aux variable output so we can append it in the result variable we want\n",
    "        output = pd.DataFrame([[i,j,smoothedWordFreq]], columns = ['author','word','probability'])\n",
    "        testProbabilities = pd.concat([testProbabilities,output], ignore_index = True)\n",
    "\n",
    "#making a data frame where we calculate the probability of all the authors using the same word\n",
    "testProbabilitiesByAuthors = pd.DataFrame(columns = ['author','jointProbability'])\n",
    "\n",
    "for i in wordFreqByAuthor.keys():\n",
    "    #get the joint probability that each author wrote each word\n",
    "    oneAuthor = testProbabilities[testProbabilities['author'] == i ]\n",
    "    #calculates the probability of one author using the respective word in comparison to all the other authors\n",
    "    jointProbability = oneAuthor['probability'].prod()\n",
    "\n",
    "    #add it to the DataFrame\n",
    "    output = pd.DataFrame([[i,jointProbability]], columns = ['author','jointProbability'])\n",
    "    testProbabilitiesByAuthors = pd.concat([testProbabilitiesByAuthors,output], ignore_index = True)\n",
    "\n",
    "testProbabilitiesByAuthors.loc[testProbabilitiesByAuthors['jointProbability'].idxmax(),'author']\n"
   ],
   "id": "b9754dd15ac1aad5",
   "outputs": [
    {
     "name": "stderr",
     "output_type": "stream",
     "text": [
      "C:\\Users\\Andrei\\AppData\\Local\\Temp\\ipykernel_2436\\4277797762.py:21: FutureWarning: The behavior of DataFrame concatenation with empty or all-NA entries is deprecated. In a future version, this will no longer exclude empty or all-NA columns when determining the result dtypes. To retain the old behavior, exclude the relevant entries before the concat operation.\n",
      "  testProbabilities = pd.concat([testProbabilities,output], ignore_index = True)\n",
      "C:\\Users\\Andrei\\AppData\\Local\\Temp\\ipykernel_2436\\4277797762.py:32: FutureWarning: The behavior of DataFrame concatenation with empty or all-NA entries is deprecated. In a future version, this will no longer exclude empty or all-NA columns when determining the result dtypes. To retain the old behavior, exclude the relevant entries before the concat operation.\n",
      "  testProbabilitiesByAuthor = pd.concat([testProbabilitiesByAuthor,output], ignore_index = True)\n"
     ]
    },
    {
     "data": {
      "text/plain": [
       "'HPL'"
      ]
     },
     "execution_count": 16,
     "metadata": {},
     "output_type": "execute_result"
    }
   ],
   "execution_count": 16
  },
  {
   "metadata": {},
   "cell_type": "code",
   "outputs": [],
   "execution_count": null,
   "source": "",
   "id": "7ec975c144f2011e"
  }
 ],
 "metadata": {
  "kernelspec": {
   "display_name": "Python 3",
   "language": "python",
   "name": "python3"
  },
  "language_info": {
   "codemirror_mode": {
    "name": "ipython",
    "version": 2
   },
   "file_extension": ".py",
   "mimetype": "text/x-python",
   "name": "python",
   "nbconvert_exporter": "python",
   "pygments_lexer": "ipython2",
   "version": "2.7.6"
  }
 },
 "nbformat": 4,
 "nbformat_minor": 5
}

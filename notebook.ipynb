{
 "cells": [
  {
   "metadata": {},
   "cell_type": "markdown",
   "source": [
    "# This is a sample Jupyter Notebook\n",
    "\n",
    "Below is an example of a code cell. \n",
    "Put your cursor into the cell and press Shift+Enter to execute it and select the next one, or click 'Run Cell' button.\n",
    "\n",
    "Press Double Shift to search everywhere for classes, files, tool windows, actions, and settings.\n",
    "\n",
    "To learn more about Jupyter Notebooks in PyCharm, see [help](https://www.jetbrains.com/help/pycharm/ipython-notebook-support.html).\n",
    "For an overview of PyCharm, go to Help -> Learn IDE features or refer to [our documentation](https://www.jetbrains.com/help/pycharm/getting-started.html)."
   ],
   "id": "8a77807f92f26ee"
  },
  {
   "metadata": {
    "ExecuteTime": {
     "end_time": "2025-07-18T19:53:33.328074Z",
     "start_time": "2025-07-18T19:53:33.326177Z"
    }
   },
   "cell_type": "code",
   "source": [
    "import nltk #library for natural language toolkit\n",
    "import pandas as pd"
   ],
   "id": "fbc121e30a2defb3",
   "outputs": [],
   "execution_count": 5
  },
  {
   "metadata": {
    "ExecuteTime": {
     "end_time": "2025-07-18T20:01:59.566484Z",
     "start_time": "2025-07-18T20:01:59.539336Z"
    }
   },
   "cell_type": "code",
   "source": [
    "#Importing data from .csv (the train.csv file in this case)\n",
    "\n",
    "texts  = pd.read_csv('Data/train/train.csv')\n",
    "texts.head()\n"
   ],
   "id": "f8379a2452858d89",
   "outputs": [
    {
     "data": {
      "text/plain": [
       "        id                                               text author\n",
       "0  id26305  This process, however, afforded me no means of...    EAP\n",
       "1  id17569  It never once occurred to me that the fumbling...    HPL\n",
       "2  id11008  In his left hand was a gold snuff box, from wh...    EAP\n",
       "3  id27763  How lovely is spring As we looked from Windsor...    MWS\n",
       "4  id12958  Finding nothing else, not even gold, the Super...    HPL"
      ],
      "text/html": [
       "<div>\n",
       "<style scoped>\n",
       "    .dataframe tbody tr th:only-of-type {\n",
       "        vertical-align: middle;\n",
       "    }\n",
       "\n",
       "    .dataframe tbody tr th {\n",
       "        vertical-align: top;\n",
       "    }\n",
       "\n",
       "    .dataframe thead th {\n",
       "        text-align: right;\n",
       "    }\n",
       "</style>\n",
       "<table border=\"1\" class=\"dataframe\">\n",
       "  <thead>\n",
       "    <tr style=\"text-align: right;\">\n",
       "      <th></th>\n",
       "      <th>id</th>\n",
       "      <th>text</th>\n",
       "      <th>author</th>\n",
       "    </tr>\n",
       "  </thead>\n",
       "  <tbody>\n",
       "    <tr>\n",
       "      <th>0</th>\n",
       "      <td>id26305</td>\n",
       "      <td>This process, however, afforded me no means of...</td>\n",
       "      <td>EAP</td>\n",
       "    </tr>\n",
       "    <tr>\n",
       "      <th>1</th>\n",
       "      <td>id17569</td>\n",
       "      <td>It never once occurred to me that the fumbling...</td>\n",
       "      <td>HPL</td>\n",
       "    </tr>\n",
       "    <tr>\n",
       "      <th>2</th>\n",
       "      <td>id11008</td>\n",
       "      <td>In his left hand was a gold snuff box, from wh...</td>\n",
       "      <td>EAP</td>\n",
       "    </tr>\n",
       "    <tr>\n",
       "      <th>3</th>\n",
       "      <td>id27763</td>\n",
       "      <td>How lovely is spring As we looked from Windsor...</td>\n",
       "      <td>MWS</td>\n",
       "    </tr>\n",
       "    <tr>\n",
       "      <th>4</th>\n",
       "      <td>id12958</td>\n",
       "      <td>Finding nothing else, not even gold, the Super...</td>\n",
       "      <td>HPL</td>\n",
       "    </tr>\n",
       "  </tbody>\n",
       "</table>\n",
       "</div>"
      ]
     },
     "execution_count": 13,
     "metadata": {},
     "output_type": "execute_result"
    }
   ],
   "execution_count": 13
  },
  {
   "metadata": {
    "ExecuteTime": {
     "end_time": "2025-07-18T20:04:53.568663Z",
     "start_time": "2025-07-18T20:04:53.562528Z"
    }
   },
   "cell_type": "code",
   "source": [
    "#grouping by author\n",
    "byAuthor = texts.groupby('author')\n",
    "\n",
    "#frequency by author\n",
    "wordFreqByAuthor = nltk.probability.ConditionalFreqDist()\n"
   ],
   "id": "eee9b799679bbf0a",
   "outputs": [
    {
     "name": "stdout",
     "output_type": "stream",
     "text": [
      "            id                                               text author\n",
      "0      id26305  This process, however, afforded me no means of...    EAP\n",
      "2      id11008  In his left hand was a gold snuff box, from wh...    EAP\n",
      "6      id09674  The astronomer, perhaps, at this point, took r...    EAP\n",
      "7      id13515        The surcingle hung in ribands from my body.    EAP\n",
      "8      id19322  I knew that you could not say to yourself 'ste...    EAP\n",
      "...        ...                                                ...    ...\n",
      "19572  id03325  But these and other difficulties attending res...    EAP\n",
      "19574  id17718  I could have fancied, while I looked at it, th...    EAP\n",
      "19575  id08973  The lids clenched themselves together as if in...    EAP\n",
      "19576  id05267  Mais il faut agir that is to say, a Frenchman ...    EAP\n",
      "19577  id17513  For an item of news like this, it strikes us i...    EAP\n",
      "\n",
      "[7900 rows x 3 columns]\n",
      "            id                                               text author\n",
      "1      id17569  It never once occurred to me that the fumbling...    HPL\n",
      "4      id12958  Finding nothing else, not even gold, the Super...    HPL\n",
      "12     id19764  Herbert West needed fresh bodies because his l...    HPL\n",
      "13     id18886  The farm like grounds extended back very deepl...    HPL\n",
      "19     id20836  His facial aspect, too, was remarkable for its...    HPL\n",
      "...        ...                                                ...    ...\n",
      "19554  id07976  They admitted they had been drunk, but both vo...    HPL\n",
      "19559  id18823  When a fumbling came in the nearer casements h...    HPL\n",
      "19561  id08678  Average people in society and business New Eng...    HPL\n",
      "19571  id14420  My watch was still going, and told me that the...    HPL\n",
      "19578  id00393  He laid a gnarled claw on my shoulder, and it ...    HPL\n",
      "\n",
      "[5635 rows x 3 columns]\n",
      "            id                                               text author\n",
      "3      id27763  How lovely is spring As we looked from Windsor...    MWS\n",
      "5      id22965  A youth passed in solitude, my best years spen...    MWS\n",
      "9      id00912  I confess that neither the structure of langua...    MWS\n",
      "10     id16737  He shall find that I can feel my injuries; he ...    MWS\n",
      "15     id12799  He had escaped me, and I must commence a destr...    MWS\n",
      "...        ...                                                ...    ...\n",
      "19563  id10563  Yet from whom has not that rude hand rent away...    MWS\n",
      "19566  id00832  These reflections made our legislators pause, ...    MWS\n",
      "19569  id26790  Once my fancy was soothed with dreams of virtu...    MWS\n",
      "19570  id14263  Nay, you may have met with another whom you ma...    MWS\n",
      "19573  id07567  Stress of weather drove us up the Adriatic Gul...    MWS\n",
      "\n",
      "[6044 rows x 3 columns]\n"
     ]
    }
   ],
   "execution_count": 20
  }
 ],
 "metadata": {
  "kernelspec": {
   "display_name": "Python 3",
   "language": "python",
   "name": "python3"
  },
  "language_info": {
   "codemirror_mode": {
    "name": "ipython",
    "version": 2
   },
   "file_extension": ".py",
   "mimetype": "text/x-python",
   "name": "python",
   "nbconvert_exporter": "python",
   "pygments_lexer": "ipython2",
   "version": "2.7.6"
  }
 },
 "nbformat": 4,
 "nbformat_minor": 5
}

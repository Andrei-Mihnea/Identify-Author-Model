{
 "cells": [
  {
   "cell_type": "code",
   "id": "initial_id",
   "metadata": {
    "collapsed": true,
    "ExecuteTime": {
     "end_time": "2025-07-20T15:35:26.431975Z",
     "start_time": "2025-07-20T15:35:26.428703Z"
    }
   },
   "source": [
    "import pandas as pd\n",
    "import numpy as np\n",
    "import spacy\n",
    "\n",
    "from multiprocessing import cpu_count\n",
    "from sklearn.base import TransformerMixin\n",
    "from sklearn.feature_extraction.text import CountVectorizer\n",
    "from sklearn.linear_model import LogisticRegression\n",
    "from sklearn import metrics\n",
    "from sklearn.model_selection import StratifiedKFold\n",
    "from sklearn.naive_bayes import MultinomialNB\n",
    "from sklearn.pipeline import Pipeline\n",
    "from spacy import attrs\n",
    "from spacy.symbols import VERB, NOUN, ADV, ADJ"
   ],
   "outputs": [],
   "execution_count": 19
  },
  {
   "metadata": {},
   "cell_type": "markdown",
   "source": "Important constants",
   "id": "412fd65b46889ebb"
  },
  {
   "metadata": {
    "ExecuteTime": {
     "end_time": "2025-07-20T15:35:26.449886Z",
     "start_time": "2025-07-20T15:35:26.448182Z"
    }
   },
   "cell_type": "code",
   "source": [
    "TEXT_COLUMN = 'text'\n",
    "Y_COLUMN = 'author'"
   ],
   "id": "16fd62a7d69877a5",
   "outputs": [],
   "execution_count": 20
  },
  {
   "metadata": {},
   "cell_type": "markdown",
   "source": "# Implementation of Stratified K Folds",
   "id": "7091b7f722febe88"
  },
  {
   "metadata": {
    "ExecuteTime": {
     "end_time": "2025-07-20T15:35:26.460841Z",
     "start_time": "2025-07-20T15:35:26.458065Z"
    }
   },
   "cell_type": "code",
   "source": [
    "def test_pipeline(df, nlp_pipeline, pipeline_name = ''):\n",
    "    y = df[Y_COLUMN].copy()\n",
    "    x = df[TEXT_COLUMN].copy()\n",
    "    #use stratified splits to solve the unbalance in author classes\n",
    "    rskf = StratifiedKFold(n_splits = 5, random_state = 1, shuffle = True)\n",
    "    losses = []\n",
    "\n",
    "    #getting train data and test data for the cross validation\n",
    "    for train_index, test_index in rskf.split(x,y):\n",
    "        x_train , x_test = x[train_index], x[test_index]\n",
    "        y_train, y_test = y[train_index], y[test_index]\n",
    "        #training the nlp on the training data\n",
    "        nlp_pipeline.fit(x_train, y_train)\n",
    "        #add the losses and compares how confident the model is in predicting the author ( lower loss means more confidence, higher less confidence)\n",
    "        losses.append(metrics.log_loss(y_test, nlp_pipeline.predict_proba(x_test)))\n",
    "\n",
    "    print(f'{pipeline_name} kfolds log losses: {str([str(round(x,3)) for x in sorted(losses)])}')\n",
    "    print(f'{pipeline_name} mean log loss: {round(np.mean(losses),3)}')"
   ],
   "id": "ba76e4e42137eb82",
   "outputs": [],
   "execution_count": 21
  },
  {
   "metadata": {
    "ExecuteTime": {
     "end_time": "2025-07-20T15:35:26.488335Z",
     "start_time": "2025-07-20T15:35:26.465055Z"
    }
   },
   "cell_type": "code",
   "source": [
    "#id column not helpful so we are ignoring it from the train data\n",
    "train_df = pd.read_csv('Data/train/train.csv', usecols=[TEXT_COLUMN, Y_COLUMN])"
   ],
   "id": "7de103ae48ec9165",
   "outputs": [],
   "execution_count": 22
  },
  {
   "metadata": {
    "ExecuteTime": {
     "end_time": "2025-07-20T15:35:27.517666Z",
     "start_time": "2025-07-20T15:35:26.497777Z"
    }
   },
   "cell_type": "code",
   "source": [
    "unigram_pipe = Pipeline([\n",
    "    ('cv', CountVectorizer()),#takes the text and then tokenize it and converts it into a vector of word frequency\n",
    "    ('mnb', MultinomialNB()),#applies naive bayes class , trains model,\n",
    "                        ])\n",
    "test_pipeline(train_df,unigram_pipe,pipeline_name='Unigrams only')"
   ],
   "id": "7d7619d3d7b2b559",
   "outputs": [
    {
     "name": "stdout",
     "output_type": "stream",
     "text": [
      "Unigrams only kfolds log losses: ['0.448', '0.452', '0.458', '0.476', '0.486']\n",
      "Unigrams only mean log loss: 0.464\n"
     ]
    }
   ],
   "execution_count": 23
  },
  {
   "metadata": {
    "ExecuteTime": {
     "end_time": "2025-07-20T16:32:24.188556Z",
     "start_time": "2025-07-20T16:32:24.185860Z"
    }
   },
   "cell_type": "code",
   "source": [
    "class UnigramPredictions(TransformerMixin):\n",
    "    def __init__(self):\n",
    "        self.unigram_mnb = Pipeline([('text', CountVectorizer()),('mnb', MultinomialNB()),])\n",
    "\n",
    "    #train the naive bayes model\n",
    "    def fit(self, x, y = None):\n",
    "        self.unigram_mnb.fit(x,y)\n",
    "        return self\n",
    "\n",
    "    def add_unigram_predictions(self,text_series):\n",
    "        #reseting dataframe index so they are equal with row number for later merges\n",
    "        df = pd.DataFrame(text_series.reset_index(drop=True))\n",
    "\n",
    "        #making the unigram prob and label them with the prediction class(the author in this case)\n",
    "        unigram_predictions = pd.DataFrame(\n",
    "            self.unigram_mnb.predict(text_series),\n",
    "            columns = ['naive_bayes_pred_' + x for x in self.unigram_mnb.classes_]#class is name of author\n",
    "                    )\n",
    "        #remove one column because the last column is one minus the sum of the other two\n",
    "        del unigram_predictions[unigram_predictions.columns[0]]\n",
    "        df = df.merge(unigram_predictions, left_index = True, right_index = True)\n",
    "\n",
    "        return df\n",
    "\n",
    "    def transform(self, text_series):\n",
    "        return self.add_unigram_predictions(text_series)\n"
   ],
   "id": "1ff69499ad233",
   "outputs": [],
   "execution_count": 24
  },
  {
   "metadata": {},
   "cell_type": "code",
   "outputs": [],
   "execution_count": null,
   "source": "NLP = spacy.load('en', disable=['parser','ner'])",
   "id": "e547ab3812168200"
  },
  {
   "metadata": {},
   "cell_type": "code",
   "outputs": [],
   "execution_count": null,
   "source": [
    "class PartOfSpeechFeatures(TransformerMixin):\n",
    "    def __init__(self):\n",
    "        self.NLP = NLP\n",
    "        #Store number of cpus available when we use multithreading\n",
    "        self.num_cores = cpu_count()\n",
    "\n",
    "    #count the number of nouns,verbs,adjectives\n",
    "    def part_of_speechiness(self, pos_counts, part_of_speech):\n",
    "        if eval(part_of_speech) in pos_counts:#we are using eval to see if the part_of_speech is valid\n",
    "            return pos_counts[eval(part_of_speech).numerator]\n",
    "        return 0\n",
    "\n",
    "    def add_pos_features(self, df):\n",
    "        text_series = df[TEXT_COLUMN]\n",
    "\n",
    "        df['doc'] = [i for i in self.NLP(text_series.values, n_threads = self.num_cores)]\n",
    "        df['pos_counts'] = df['doc'].apply(lambda x: x.count_by(attrs.POS))\n",
    "\n",
    "        df['sentence_length'] = df['doc'].str.len()\n",
    "\n",
    "        for part_of_speech in ('NOUN', 'VERB', 'ADJ', 'ADV'):\n",
    "            df[f'{part_of_speech.lower()}iness'] = df['pos_counts'].apply(\n",
    "                lambda x: self.part_of_speechiness(x, part_of_speech))\n",
    "            df[f'{part_of_speech.lower()}iness'] /= df['sentence_length']\n",
    "        df['avg_word_length'] = df['doc'].apply(\n",
    "            lambda x: sum([len(word) for word in x])) / df['sentence_length']\n",
    "\n",
    "        return df\n",
    "\n",
    "    def fit(self,df):\n",
    "        return self.add_pos_features(df.copy())\n"
   ],
   "id": "8257f79fcbc713a6"
  }
 ],
 "metadata": {
  "kernelspec": {
   "display_name": "Python 3",
   "language": "python",
   "name": "python3"
  },
  "language_info": {
   "codemirror_mode": {
    "name": "ipython",
    "version": 2
   },
   "file_extension": ".py",
   "mimetype": "text/x-python",
   "name": "python",
   "nbconvert_exporter": "python",
   "pygments_lexer": "ipython2",
   "version": "2.7.6"
  }
 },
 "nbformat": 4,
 "nbformat_minor": 5
}

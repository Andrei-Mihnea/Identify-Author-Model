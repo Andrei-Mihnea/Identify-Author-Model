{
  "cells": [
    {
      "cell_type": "code",
      "id": "initial_id",
      "metadata": {
        "collapsed": true,
        "ExecuteTime": {
          "end_time": "2025-07-20T19:31:42.723715Z",
          "start_time": "2025-07-20T19:31:42.721274Z"
        },
        "id": "initial_id"
      },
      "source": [
        "import pandas as pd\n",
        "import numpy as np\n",
        "import spacy\n",
        "from datetime import datetime\n",
        "from multiprocessing import cpu_count\n",
        "from sklearn.base import TransformerMixin\n",
        "from sklearn.feature_extraction.text import CountVectorizer\n",
        "from sklearn.linear_model import LogisticRegression\n",
        "from sklearn import metrics\n",
        "from sklearn.model_selection import StratifiedKFold\n",
        "from sklearn.naive_bayes import MultinomialNB\n",
        "from sklearn.pipeline import Pipeline\n",
        "from sklearn.base import BaseEstimator\n",
        "from sklearn.preprocessing import StandardScaler\n",
        "from sklearn.pipeline import FeatureUnion\n",
        "from spacy import attrs\n",
        "from spacy.symbols import VERB, NOUN, ADV, ADJ"
      ],
      "outputs": [],
      "execution_count": 26
    },
    {
      "metadata": {
        "id": "412fd65b46889ebb"
      },
      "cell_type": "markdown",
      "source": [
        "Important constants"
      ],
      "id": "412fd65b46889ebb"
    },
    {
      "metadata": {
        "ExecuteTime": {
          "end_time": "2025-07-20T19:31:42.743048Z",
          "start_time": "2025-07-20T19:31:42.741433Z"
        },
        "id": "16fd62a7d69877a5"
      },
      "cell_type": "code",
      "source": [
        "TEXT_COLUMN = 'text'\n",
        "Y_COLUMN = 'author'\n",
        "log_history = []"
      ],
      "id": "16fd62a7d69877a5",
      "outputs": [],
      "execution_count": 3
    },
    {
      "metadata": {
        "id": "7091b7f722febe88"
      },
      "cell_type": "markdown",
      "source": [
        "# Implementation of Stratified K Folds"
      ],
      "id": "7091b7f722febe88"
    },
    {
      "metadata": {
        "ExecuteTime": {
          "end_time": "2025-07-20T19:31:42.763470Z",
          "start_time": "2025-07-20T19:31:42.760294Z"
        },
        "id": "ba76e4e42137eb82"
      },
      "cell_type": "code",
      "source": [
        "def test_pipeline(df, nlp_pipeline, pipeline_name = ''):\n",
        "    y = df[Y_COLUMN].copy()\n",
        "    x = df[TEXT_COLUMN].copy()\n",
        "    #use stratified splits to solve the unbalance in author classes\n",
        "    rskf = StratifiedKFold(n_splits = 5, random_state = 1, shuffle = True)\n",
        "    losses = []\n",
        "\n",
        "    #getting train data and test data for the cross validation\n",
        "    for train_index, test_index in rskf.split(x,y):\n",
        "        x_train , x_test = x[train_index], x[test_index]\n",
        "        y_train, y_test = y[train_index], y[test_index]\n",
        "        #training the nlp on the training data\n",
        "        nlp_pipeline.fit(x_train, y_train)\n",
        "        #add the losses and compares how confident the model is in predicting the author ( lower loss means more confidence, higher less confidence)\n",
        "        losses.append(metrics.log_loss(y_test, nlp_pipeline.predict_proba(x_test)))\n",
        "\n",
        "    print(f'{pipeline_name} kfolds log losses: {str([str(round(x,3)) for x in sorted(losses)])}')\n",
        "    print(f'{pipeline_name} mean log loss: {round(np.mean(losses),3)}')\n",
        "    # log_history.append((datetime.now(),round(np.mean(losses),3)))"
      ],
      "id": "ba76e4e42137eb82",
      "outputs": [],
      "execution_count": 17
    },
    {
      "metadata": {
        "ExecuteTime": {
          "end_time": "2025-07-20T19:31:42.812927Z",
          "start_time": "2025-07-20T19:31:42.777115Z"
        },
        "id": "7de103ae48ec9165"
      },
      "cell_type": "code",
      "source": [
        "#id column not helpful so we are ignoring it from the train data\n",
        "train_df = pd.read_csv('Data/train/train.csv', usecols=[TEXT_COLUMN, Y_COLUMN])\n",
        "test_df = pd.read_csv('Data/test/test.csv')\n"
      ],
      "id": "7de103ae48ec9165",
      "outputs": [],
      "execution_count": 7
    },
    {
      "metadata": {
        "ExecuteTime": {
          "end_time": "2025-07-20T19:31:43.865425Z",
          "start_time": "2025-07-20T19:31:42.822715Z"
        },
        "id": "7d7619d3d7b2b559",
        "outputId": "0004d0bd-8ac5-443e-d49c-ecef37eaa493",
        "colab": {
          "base_uri": "https://localhost:8080/"
        }
      },
      "cell_type": "code",
      "source": [
        "unigram_pipe = Pipeline([\n",
        "    ('cv', CountVectorizer()),#takes the text and then tokenize it and converts it into a vector of word frequency\n",
        "    ('mnb', MultinomialNB()),#applies naive bayes class , trains model,\n",
        "                        ])\n",
        "test_pipeline(train_df,unigram_pipe,pipeline_name='Unigrams only')"
      ],
      "id": "7d7619d3d7b2b559",
      "outputs": [
        {
          "output_type": "stream",
          "name": "stdout",
          "text": [
            "Unigrams only kfolds log losses: ['0.448', '0.452', '0.458', '0.476', '0.486']\n",
            "Unigrams only mean log loss: 0.464\n"
          ]
        }
      ],
      "execution_count": 8
    },
    {
      "metadata": {
        "ExecuteTime": {
          "end_time": "2025-07-20T20:50:11.421039Z",
          "start_time": "2025-07-20T20:50:11.417738Z"
        },
        "id": "1ff69499ad233"
      },
      "cell_type": "code",
      "source": [
        "from sklearn.feature_extraction.text import TfidfVectorizer\n",
        "\n",
        "#Unigram name not so specific anymore if i make bigrams too\n",
        "class UnigramPredictions(TransformerMixin):\n",
        "    def __init__(self):\n",
        "        self.unigram_mnb = Pipeline([\n",
        "            ('text', TfidfVectorizer(ngram_range=(1,2), min_df=3, max_df=0.9)),\n",
        "            ('mnb', MultinomialNB()),\n",
        "        ])\n",
        "\n",
        "    #train the naive bayes model\n",
        "    def fit(self, x, y = None):\n",
        "        self.unigram_mnb.fit(x,y)\n",
        "        return self\n",
        "\n",
        "    def add_unigram_predictions(self,text_series):\n",
        "        #reseting dataframe index so they are equal with row number for later merges\n",
        "        df = pd.DataFrame(text_series.reset_index(drop=True))\n",
        "\n",
        "        #making the unigram prob and label them with the prediction class(the author in this case)\n",
        "        unigram_predictions = pd.DataFrame(\n",
        "            self.unigram_mnb.predict_proba(text_series),\n",
        "            columns = ['naive_bayes_pred_' + x for x in self.unigram_mnb.classes_]#class is name of author\n",
        "                    )\n",
        "        #remove one column because the last column is one minus the sum of the other two\n",
        "        del unigram_predictions[unigram_predictions.columns[0]]\n",
        "        df = df.merge(unigram_predictions, left_index = True, right_index = True)\n",
        "\n",
        "        return df\n",
        "\n",
        "    def transform(self, text_series):\n",
        "        return self.add_unigram_predictions(text_series)"
      ],
      "id": "1ff69499ad233",
      "outputs": [],
      "execution_count": 42
    },
    {
      "metadata": {
        "ExecuteTime": {
          "end_time": "2025-07-20T19:31:44.072285Z",
          "start_time": "2025-07-20T19:31:43.890537Z"
        },
        "id": "e547ab3812168200"
      },
      "cell_type": "code",
      "source": [
        "NLP = spacy.load('en_core_web_sm', disable=['parser','ner'])"
      ],
      "id": "e547ab3812168200",
      "outputs": [],
      "execution_count": 10
    },
    {
      "metadata": {
        "ExecuteTime": {
          "end_time": "2025-07-20T19:31:44.084771Z",
          "start_time": "2025-07-20T19:31:44.081744Z"
        },
        "id": "8257f79fcbc713a6"
      },
      "cell_type": "code",
      "source": [
        "class PartOfSpeechFeatures(TransformerMixin):\n",
        "    def __init__(self):\n",
        "        self.NLP = NLP\n",
        "        #Store number of cpus available when we use multithreading\n",
        "        self.num_cores = cpu_count()\n",
        "\n",
        "    #count the number of nouns,verbs,adjectives\n",
        "    def part_of_speechiness(self, pos_counts, part_of_speech):\n",
        "        if eval(part_of_speech) in pos_counts:#we are using eval to see if the part_of_speech is valid\n",
        "            return pos_counts[eval(part_of_speech).numerator]\n",
        "        return 0\n",
        "\n",
        "    def add_pos_features(self, df):\n",
        "        text_series = df[TEXT_COLUMN]\n",
        "\n",
        "        df['doc'] = list(self.NLP.pipe(text_series.values, n_process = self.num_cores))\n",
        "        df['pos_counts'] = df['doc'].apply(lambda x: x.count_by(attrs.POS))\n",
        "        df['sentence_length'] = df['doc'].str.len()\n",
        "\n",
        "        for part_of_speech in ('NOUN', 'VERB', 'ADJ', 'ADV'):\n",
        "            df[f'{part_of_speech.lower()}iness'] = df['pos_counts'].apply(\n",
        "                lambda x: self.part_of_speechiness(x, part_of_speech))\n",
        "            df[f'{part_of_speech.lower()}iness'] /= df['sentence_length']\n",
        "        df['avg_word_length'] = df['doc'].apply(lambda x: sum([len(word) for word in x])) / df['sentence_length']\n",
        "\n",
        "        return df\n",
        "\n",
        "    def fit(self,x, y = None):\n",
        "        return self\n",
        "\n",
        "    def transform(self, df):\n",
        "        return self.add_pos_features(df.copy())\n"
      ],
      "id": "8257f79fcbc713a6",
      "outputs": [],
      "execution_count": 11
    },
    {
      "metadata": {
        "ExecuteTime": {
          "end_time": "2025-07-20T19:31:44.103535Z",
          "start_time": "2025-07-20T19:31:44.101628Z"
        },
        "id": "2362ffcb99670f1e"
      },
      "cell_type": "code",
      "source": [
        "class DropStringColumns(TransformerMixin):\n",
        "    def fit(self, x, y = None):\n",
        "        return self\n",
        "\n",
        "    def transform(self, df):\n",
        "        for col, dtype in zip(df.columns, df.dtypes):\n",
        "            if dtype == 'object':\n",
        "                del df[col]\n",
        "        return df"
      ],
      "id": "2362ffcb99670f1e",
      "outputs": [],
      "execution_count": 12
    },
    {
      "metadata": {
        "id": "e2b80ff05c766eb9"
      },
      "cell_type": "markdown",
      "source": [
        "# Now we are going to test the model"
      ],
      "id": "e2b80ff05c766eb9"
    },
    {
      "metadata": {
        "ExecuteTime": {
          "end_time": "2025-07-20T20:53:38.320287Z",
          "start_time": "2025-07-20T20:50:32.719695Z"
        },
        "id": "e57742dc1c348d00"
      },
      "cell_type": "code",
      "source": [
        "logit_all_features_pipe = Pipeline([\n",
        "    ('uni', UnigramPredictions()),\n",
        "    ('nlp', PartOfSpeechFeatures()),\n",
        "    ('clean', DropStringColumns()),\n",
        "    ('clf', LogisticRegression( max_iter=1000, C= 0.1))\n",
        "    ])\n"
      ],
      "id": "e57742dc1c348d00",
      "outputs": [],
      "execution_count": 43
    },
    {
      "cell_type": "code",
      "source": [
        "test_pipeline(train_df, logit_all_features_pipe)"
      ],
      "metadata": {
        "id": "jyMHTMUrr_YB",
        "outputId": "d4eceda7-c0b3-420b-815e-710d5c361268",
        "colab": {
          "base_uri": "https://localhost:8080/"
        }
      },
      "id": "jyMHTMUrr_YB",
      "execution_count": 44,
      "outputs": [
        {
          "output_type": "stream",
          "name": "stdout",
          "text": [
            " kfolds log losses: ['0.415', '0.416', '0.423', '0.424', '0.426']\n",
            " mean log loss: 0.421\n"
          ]
        }
      ]
    },
    {
      "metadata": {
        "ExecuteTime": {
          "end_time": "2025-07-20T20:53:45.133445Z",
          "start_time": "2025-07-20T20:53:45.131400Z"
        },
        "id": "c45f895342cd8931"
      },
      "cell_type": "code",
      "source": [
        "def generate_submission_df(trained_prediction_pipeline, test_df):\n",
        "    predictions = pd.DataFrame(\n",
        "        trained_prediction_pipeline.predict_proba(test_df.text),\n",
        "        columns=trained_prediction_pipeline.classes_\n",
        "    )\n",
        "\n",
        "    predictions['id'] = test_df['id']\n",
        "    predictions.to_csv('submission.csv', index = False)\n",
        "    return predictions"
      ],
      "id": "c45f895342cd8931",
      "outputs": [],
      "execution_count": 14
    },
    {
      "metadata": {
        "id": "462660b5202ed8ab"
      },
      "cell_type": "markdown",
      "source": [
        "# Train Model"
      ],
      "id": "462660b5202ed8ab"
    },
    {
      "metadata": {
        "ExecuteTime": {
          "end_time": "2025-07-20T20:54:15.147276Z",
          "start_time": "2025-07-20T20:53:52.777863Z"
        },
        "id": "b714a335f892b894",
        "outputId": "c0e6eafe-5093-4b9d-9cec-bac2f2615a70",
        "colab": {
          "base_uri": "https://localhost:8080/",
          "height": 272
        }
      },
      "cell_type": "code",
      "source": [
        "logit_all_features_pipe.fit(train_df[TEXT_COLUMN], train_df[Y_COLUMN])"
      ],
      "id": "b714a335f892b894",
      "outputs": [
        {
          "output_type": "stream",
          "name": "stderr",
          "text": [
            "/usr/local/lib/python3.11/dist-packages/sklearn/linear_model/_sag.py:348: ConvergenceWarning: The max_iter was reached which means the coef_ did not converge\n",
            "  warnings.warn(\n"
          ]
        },
        {
          "output_type": "execute_result",
          "data": {
            "text/plain": [
              "Pipeline(steps=[('uni', <__main__.UnigramPredictions object at 0x7977b13d3010>),\n",
              "                ('nlp',\n",
              "                 <__main__.PartOfSpeechFeatures object at 0x7977b8464290>),\n",
              "                ('clean',\n",
              "                 <__main__.DropStringColumns object at 0x7977b8465050>),\n",
              "                ('clf', LogisticRegression(max_iter=1000, solver='saga'))])"
            ],
            "text/html": [
              "<style>#sk-container-id-2 {\n",
              "  /* Definition of color scheme common for light and dark mode */\n",
              "  --sklearn-color-text: #000;\n",
              "  --sklearn-color-text-muted: #666;\n",
              "  --sklearn-color-line: gray;\n",
              "  /* Definition of color scheme for unfitted estimators */\n",
              "  --sklearn-color-unfitted-level-0: #fff5e6;\n",
              "  --sklearn-color-unfitted-level-1: #f6e4d2;\n",
              "  --sklearn-color-unfitted-level-2: #ffe0b3;\n",
              "  --sklearn-color-unfitted-level-3: chocolate;\n",
              "  /* Definition of color scheme for fitted estimators */\n",
              "  --sklearn-color-fitted-level-0: #f0f8ff;\n",
              "  --sklearn-color-fitted-level-1: #d4ebff;\n",
              "  --sklearn-color-fitted-level-2: #b3dbfd;\n",
              "  --sklearn-color-fitted-level-3: cornflowerblue;\n",
              "\n",
              "  /* Specific color for light theme */\n",
              "  --sklearn-color-text-on-default-background: var(--sg-text-color, var(--theme-code-foreground, var(--jp-content-font-color1, black)));\n",
              "  --sklearn-color-background: var(--sg-background-color, var(--theme-background, var(--jp-layout-color0, white)));\n",
              "  --sklearn-color-border-box: var(--sg-text-color, var(--theme-code-foreground, var(--jp-content-font-color1, black)));\n",
              "  --sklearn-color-icon: #696969;\n",
              "\n",
              "  @media (prefers-color-scheme: dark) {\n",
              "    /* Redefinition of color scheme for dark theme */\n",
              "    --sklearn-color-text-on-default-background: var(--sg-text-color, var(--theme-code-foreground, var(--jp-content-font-color1, white)));\n",
              "    --sklearn-color-background: var(--sg-background-color, var(--theme-background, var(--jp-layout-color0, #111)));\n",
              "    --sklearn-color-border-box: var(--sg-text-color, var(--theme-code-foreground, var(--jp-content-font-color1, white)));\n",
              "    --sklearn-color-icon: #878787;\n",
              "  }\n",
              "}\n",
              "\n",
              "#sk-container-id-2 {\n",
              "  color: var(--sklearn-color-text);\n",
              "}\n",
              "\n",
              "#sk-container-id-2 pre {\n",
              "  padding: 0;\n",
              "}\n",
              "\n",
              "#sk-container-id-2 input.sk-hidden--visually {\n",
              "  border: 0;\n",
              "  clip: rect(1px 1px 1px 1px);\n",
              "  clip: rect(1px, 1px, 1px, 1px);\n",
              "  height: 1px;\n",
              "  margin: -1px;\n",
              "  overflow: hidden;\n",
              "  padding: 0;\n",
              "  position: absolute;\n",
              "  width: 1px;\n",
              "}\n",
              "\n",
              "#sk-container-id-2 div.sk-dashed-wrapped {\n",
              "  border: 1px dashed var(--sklearn-color-line);\n",
              "  margin: 0 0.4em 0.5em 0.4em;\n",
              "  box-sizing: border-box;\n",
              "  padding-bottom: 0.4em;\n",
              "  background-color: var(--sklearn-color-background);\n",
              "}\n",
              "\n",
              "#sk-container-id-2 div.sk-container {\n",
              "  /* jupyter's `normalize.less` sets `[hidden] { display: none; }`\n",
              "     but bootstrap.min.css set `[hidden] { display: none !important; }`\n",
              "     so we also need the `!important` here to be able to override the\n",
              "     default hidden behavior on the sphinx rendered scikit-learn.org.\n",
              "     See: https://github.com/scikit-learn/scikit-learn/issues/21755 */\n",
              "  display: inline-block !important;\n",
              "  position: relative;\n",
              "}\n",
              "\n",
              "#sk-container-id-2 div.sk-text-repr-fallback {\n",
              "  display: none;\n",
              "}\n",
              "\n",
              "div.sk-parallel-item,\n",
              "div.sk-serial,\n",
              "div.sk-item {\n",
              "  /* draw centered vertical line to link estimators */\n",
              "  background-image: linear-gradient(var(--sklearn-color-text-on-default-background), var(--sklearn-color-text-on-default-background));\n",
              "  background-size: 2px 100%;\n",
              "  background-repeat: no-repeat;\n",
              "  background-position: center center;\n",
              "}\n",
              "\n",
              "/* Parallel-specific style estimator block */\n",
              "\n",
              "#sk-container-id-2 div.sk-parallel-item::after {\n",
              "  content: \"\";\n",
              "  width: 100%;\n",
              "  border-bottom: 2px solid var(--sklearn-color-text-on-default-background);\n",
              "  flex-grow: 1;\n",
              "}\n",
              "\n",
              "#sk-container-id-2 div.sk-parallel {\n",
              "  display: flex;\n",
              "  align-items: stretch;\n",
              "  justify-content: center;\n",
              "  background-color: var(--sklearn-color-background);\n",
              "  position: relative;\n",
              "}\n",
              "\n",
              "#sk-container-id-2 div.sk-parallel-item {\n",
              "  display: flex;\n",
              "  flex-direction: column;\n",
              "}\n",
              "\n",
              "#sk-container-id-2 div.sk-parallel-item:first-child::after {\n",
              "  align-self: flex-end;\n",
              "  width: 50%;\n",
              "}\n",
              "\n",
              "#sk-container-id-2 div.sk-parallel-item:last-child::after {\n",
              "  align-self: flex-start;\n",
              "  width: 50%;\n",
              "}\n",
              "\n",
              "#sk-container-id-2 div.sk-parallel-item:only-child::after {\n",
              "  width: 0;\n",
              "}\n",
              "\n",
              "/* Serial-specific style estimator block */\n",
              "\n",
              "#sk-container-id-2 div.sk-serial {\n",
              "  display: flex;\n",
              "  flex-direction: column;\n",
              "  align-items: center;\n",
              "  background-color: var(--sklearn-color-background);\n",
              "  padding-right: 1em;\n",
              "  padding-left: 1em;\n",
              "}\n",
              "\n",
              "\n",
              "/* Toggleable style: style used for estimator/Pipeline/ColumnTransformer box that is\n",
              "clickable and can be expanded/collapsed.\n",
              "- Pipeline and ColumnTransformer use this feature and define the default style\n",
              "- Estimators will overwrite some part of the style using the `sk-estimator` class\n",
              "*/\n",
              "\n",
              "/* Pipeline and ColumnTransformer style (default) */\n",
              "\n",
              "#sk-container-id-2 div.sk-toggleable {\n",
              "  /* Default theme specific background. It is overwritten whether we have a\n",
              "  specific estimator or a Pipeline/ColumnTransformer */\n",
              "  background-color: var(--sklearn-color-background);\n",
              "}\n",
              "\n",
              "/* Toggleable label */\n",
              "#sk-container-id-2 label.sk-toggleable__label {\n",
              "  cursor: pointer;\n",
              "  display: flex;\n",
              "  width: 100%;\n",
              "  margin-bottom: 0;\n",
              "  padding: 0.5em;\n",
              "  box-sizing: border-box;\n",
              "  text-align: center;\n",
              "  align-items: start;\n",
              "  justify-content: space-between;\n",
              "  gap: 0.5em;\n",
              "}\n",
              "\n",
              "#sk-container-id-2 label.sk-toggleable__label .caption {\n",
              "  font-size: 0.6rem;\n",
              "  font-weight: lighter;\n",
              "  color: var(--sklearn-color-text-muted);\n",
              "}\n",
              "\n",
              "#sk-container-id-2 label.sk-toggleable__label-arrow:before {\n",
              "  /* Arrow on the left of the label */\n",
              "  content: \"▸\";\n",
              "  float: left;\n",
              "  margin-right: 0.25em;\n",
              "  color: var(--sklearn-color-icon);\n",
              "}\n",
              "\n",
              "#sk-container-id-2 label.sk-toggleable__label-arrow:hover:before {\n",
              "  color: var(--sklearn-color-text);\n",
              "}\n",
              "\n",
              "/* Toggleable content - dropdown */\n",
              "\n",
              "#sk-container-id-2 div.sk-toggleable__content {\n",
              "  max-height: 0;\n",
              "  max-width: 0;\n",
              "  overflow: hidden;\n",
              "  text-align: left;\n",
              "  /* unfitted */\n",
              "  background-color: var(--sklearn-color-unfitted-level-0);\n",
              "}\n",
              "\n",
              "#sk-container-id-2 div.sk-toggleable__content.fitted {\n",
              "  /* fitted */\n",
              "  background-color: var(--sklearn-color-fitted-level-0);\n",
              "}\n",
              "\n",
              "#sk-container-id-2 div.sk-toggleable__content pre {\n",
              "  margin: 0.2em;\n",
              "  border-radius: 0.25em;\n",
              "  color: var(--sklearn-color-text);\n",
              "  /* unfitted */\n",
              "  background-color: var(--sklearn-color-unfitted-level-0);\n",
              "}\n",
              "\n",
              "#sk-container-id-2 div.sk-toggleable__content.fitted pre {\n",
              "  /* unfitted */\n",
              "  background-color: var(--sklearn-color-fitted-level-0);\n",
              "}\n",
              "\n",
              "#sk-container-id-2 input.sk-toggleable__control:checked~div.sk-toggleable__content {\n",
              "  /* Expand drop-down */\n",
              "  max-height: 200px;\n",
              "  max-width: 100%;\n",
              "  overflow: auto;\n",
              "}\n",
              "\n",
              "#sk-container-id-2 input.sk-toggleable__control:checked~label.sk-toggleable__label-arrow:before {\n",
              "  content: \"▾\";\n",
              "}\n",
              "\n",
              "/* Pipeline/ColumnTransformer-specific style */\n",
              "\n",
              "#sk-container-id-2 div.sk-label input.sk-toggleable__control:checked~label.sk-toggleable__label {\n",
              "  color: var(--sklearn-color-text);\n",
              "  background-color: var(--sklearn-color-unfitted-level-2);\n",
              "}\n",
              "\n",
              "#sk-container-id-2 div.sk-label.fitted input.sk-toggleable__control:checked~label.sk-toggleable__label {\n",
              "  background-color: var(--sklearn-color-fitted-level-2);\n",
              "}\n",
              "\n",
              "/* Estimator-specific style */\n",
              "\n",
              "/* Colorize estimator box */\n",
              "#sk-container-id-2 div.sk-estimator input.sk-toggleable__control:checked~label.sk-toggleable__label {\n",
              "  /* unfitted */\n",
              "  background-color: var(--sklearn-color-unfitted-level-2);\n",
              "}\n",
              "\n",
              "#sk-container-id-2 div.sk-estimator.fitted input.sk-toggleable__control:checked~label.sk-toggleable__label {\n",
              "  /* fitted */\n",
              "  background-color: var(--sklearn-color-fitted-level-2);\n",
              "}\n",
              "\n",
              "#sk-container-id-2 div.sk-label label.sk-toggleable__label,\n",
              "#sk-container-id-2 div.sk-label label {\n",
              "  /* The background is the default theme color */\n",
              "  color: var(--sklearn-color-text-on-default-background);\n",
              "}\n",
              "\n",
              "/* On hover, darken the color of the background */\n",
              "#sk-container-id-2 div.sk-label:hover label.sk-toggleable__label {\n",
              "  color: var(--sklearn-color-text);\n",
              "  background-color: var(--sklearn-color-unfitted-level-2);\n",
              "}\n",
              "\n",
              "/* Label box, darken color on hover, fitted */\n",
              "#sk-container-id-2 div.sk-label.fitted:hover label.sk-toggleable__label.fitted {\n",
              "  color: var(--sklearn-color-text);\n",
              "  background-color: var(--sklearn-color-fitted-level-2);\n",
              "}\n",
              "\n",
              "/* Estimator label */\n",
              "\n",
              "#sk-container-id-2 div.sk-label label {\n",
              "  font-family: monospace;\n",
              "  font-weight: bold;\n",
              "  display: inline-block;\n",
              "  line-height: 1.2em;\n",
              "}\n",
              "\n",
              "#sk-container-id-2 div.sk-label-container {\n",
              "  text-align: center;\n",
              "}\n",
              "\n",
              "/* Estimator-specific */\n",
              "#sk-container-id-2 div.sk-estimator {\n",
              "  font-family: monospace;\n",
              "  border: 1px dotted var(--sklearn-color-border-box);\n",
              "  border-radius: 0.25em;\n",
              "  box-sizing: border-box;\n",
              "  margin-bottom: 0.5em;\n",
              "  /* unfitted */\n",
              "  background-color: var(--sklearn-color-unfitted-level-0);\n",
              "}\n",
              "\n",
              "#sk-container-id-2 div.sk-estimator.fitted {\n",
              "  /* fitted */\n",
              "  background-color: var(--sklearn-color-fitted-level-0);\n",
              "}\n",
              "\n",
              "/* on hover */\n",
              "#sk-container-id-2 div.sk-estimator:hover {\n",
              "  /* unfitted */\n",
              "  background-color: var(--sklearn-color-unfitted-level-2);\n",
              "}\n",
              "\n",
              "#sk-container-id-2 div.sk-estimator.fitted:hover {\n",
              "  /* fitted */\n",
              "  background-color: var(--sklearn-color-fitted-level-2);\n",
              "}\n",
              "\n",
              "/* Specification for estimator info (e.g. \"i\" and \"?\") */\n",
              "\n",
              "/* Common style for \"i\" and \"?\" */\n",
              "\n",
              ".sk-estimator-doc-link,\n",
              "a:link.sk-estimator-doc-link,\n",
              "a:visited.sk-estimator-doc-link {\n",
              "  float: right;\n",
              "  font-size: smaller;\n",
              "  line-height: 1em;\n",
              "  font-family: monospace;\n",
              "  background-color: var(--sklearn-color-background);\n",
              "  border-radius: 1em;\n",
              "  height: 1em;\n",
              "  width: 1em;\n",
              "  text-decoration: none !important;\n",
              "  margin-left: 0.5em;\n",
              "  text-align: center;\n",
              "  /* unfitted */\n",
              "  border: var(--sklearn-color-unfitted-level-1) 1pt solid;\n",
              "  color: var(--sklearn-color-unfitted-level-1);\n",
              "}\n",
              "\n",
              ".sk-estimator-doc-link.fitted,\n",
              "a:link.sk-estimator-doc-link.fitted,\n",
              "a:visited.sk-estimator-doc-link.fitted {\n",
              "  /* fitted */\n",
              "  border: var(--sklearn-color-fitted-level-1) 1pt solid;\n",
              "  color: var(--sklearn-color-fitted-level-1);\n",
              "}\n",
              "\n",
              "/* On hover */\n",
              "div.sk-estimator:hover .sk-estimator-doc-link:hover,\n",
              ".sk-estimator-doc-link:hover,\n",
              "div.sk-label-container:hover .sk-estimator-doc-link:hover,\n",
              ".sk-estimator-doc-link:hover {\n",
              "  /* unfitted */\n",
              "  background-color: var(--sklearn-color-unfitted-level-3);\n",
              "  color: var(--sklearn-color-background);\n",
              "  text-decoration: none;\n",
              "}\n",
              "\n",
              "div.sk-estimator.fitted:hover .sk-estimator-doc-link.fitted:hover,\n",
              ".sk-estimator-doc-link.fitted:hover,\n",
              "div.sk-label-container:hover .sk-estimator-doc-link.fitted:hover,\n",
              ".sk-estimator-doc-link.fitted:hover {\n",
              "  /* fitted */\n",
              "  background-color: var(--sklearn-color-fitted-level-3);\n",
              "  color: var(--sklearn-color-background);\n",
              "  text-decoration: none;\n",
              "}\n",
              "\n",
              "/* Span, style for the box shown on hovering the info icon */\n",
              ".sk-estimator-doc-link span {\n",
              "  display: none;\n",
              "  z-index: 9999;\n",
              "  position: relative;\n",
              "  font-weight: normal;\n",
              "  right: .2ex;\n",
              "  padding: .5ex;\n",
              "  margin: .5ex;\n",
              "  width: min-content;\n",
              "  min-width: 20ex;\n",
              "  max-width: 50ex;\n",
              "  color: var(--sklearn-color-text);\n",
              "  box-shadow: 2pt 2pt 4pt #999;\n",
              "  /* unfitted */\n",
              "  background: var(--sklearn-color-unfitted-level-0);\n",
              "  border: .5pt solid var(--sklearn-color-unfitted-level-3);\n",
              "}\n",
              "\n",
              ".sk-estimator-doc-link.fitted span {\n",
              "  /* fitted */\n",
              "  background: var(--sklearn-color-fitted-level-0);\n",
              "  border: var(--sklearn-color-fitted-level-3);\n",
              "}\n",
              "\n",
              ".sk-estimator-doc-link:hover span {\n",
              "  display: block;\n",
              "}\n",
              "\n",
              "/* \"?\"-specific style due to the `<a>` HTML tag */\n",
              "\n",
              "#sk-container-id-2 a.estimator_doc_link {\n",
              "  float: right;\n",
              "  font-size: 1rem;\n",
              "  line-height: 1em;\n",
              "  font-family: monospace;\n",
              "  background-color: var(--sklearn-color-background);\n",
              "  border-radius: 1rem;\n",
              "  height: 1rem;\n",
              "  width: 1rem;\n",
              "  text-decoration: none;\n",
              "  /* unfitted */\n",
              "  color: var(--sklearn-color-unfitted-level-1);\n",
              "  border: var(--sklearn-color-unfitted-level-1) 1pt solid;\n",
              "}\n",
              "\n",
              "#sk-container-id-2 a.estimator_doc_link.fitted {\n",
              "  /* fitted */\n",
              "  border: var(--sklearn-color-fitted-level-1) 1pt solid;\n",
              "  color: var(--sklearn-color-fitted-level-1);\n",
              "}\n",
              "\n",
              "/* On hover */\n",
              "#sk-container-id-2 a.estimator_doc_link:hover {\n",
              "  /* unfitted */\n",
              "  background-color: var(--sklearn-color-unfitted-level-3);\n",
              "  color: var(--sklearn-color-background);\n",
              "  text-decoration: none;\n",
              "}\n",
              "\n",
              "#sk-container-id-2 a.estimator_doc_link.fitted:hover {\n",
              "  /* fitted */\n",
              "  background-color: var(--sklearn-color-fitted-level-3);\n",
              "}\n",
              "</style><div id=\"sk-container-id-2\" class=\"sk-top-container\"><div class=\"sk-text-repr-fallback\"><pre>Pipeline(steps=[(&#x27;uni&#x27;, &lt;__main__.UnigramPredictions object at 0x7977b13d3010&gt;),\n",
              "                (&#x27;nlp&#x27;,\n",
              "                 &lt;__main__.PartOfSpeechFeatures object at 0x7977b8464290&gt;),\n",
              "                (&#x27;clean&#x27;,\n",
              "                 &lt;__main__.DropStringColumns object at 0x7977b8465050&gt;),\n",
              "                (&#x27;clf&#x27;, LogisticRegression(max_iter=1000, solver=&#x27;saga&#x27;))])</pre><b>In a Jupyter environment, please rerun this cell to show the HTML representation or trust the notebook. <br />On GitHub, the HTML representation is unable to render, please try loading this page with nbviewer.org.</b></div><div class=\"sk-container\" hidden><div class=\"sk-item sk-dashed-wrapped\"><div class=\"sk-label-container\"><div class=\"sk-label fitted sk-toggleable\"><input class=\"sk-toggleable__control sk-hidden--visually\" id=\"sk-estimator-id-6\" type=\"checkbox\" ><label for=\"sk-estimator-id-6\" class=\"sk-toggleable__label fitted sk-toggleable__label-arrow\"><div><div>Pipeline</div></div><div><a class=\"sk-estimator-doc-link fitted\" rel=\"noreferrer\" target=\"_blank\" href=\"https://scikit-learn.org/1.6/modules/generated/sklearn.pipeline.Pipeline.html\">?<span>Documentation for Pipeline</span></a><span class=\"sk-estimator-doc-link fitted\">i<span>Fitted</span></span></div></label><div class=\"sk-toggleable__content fitted\"><pre>Pipeline(steps=[(&#x27;uni&#x27;, &lt;__main__.UnigramPredictions object at 0x7977b13d3010&gt;),\n",
              "                (&#x27;nlp&#x27;,\n",
              "                 &lt;__main__.PartOfSpeechFeatures object at 0x7977b8464290&gt;),\n",
              "                (&#x27;clean&#x27;,\n",
              "                 &lt;__main__.DropStringColumns object at 0x7977b8465050&gt;),\n",
              "                (&#x27;clf&#x27;, LogisticRegression(max_iter=1000, solver=&#x27;saga&#x27;))])</pre></div> </div></div><div class=\"sk-serial\"><div class=\"sk-item\"><div class=\"sk-estimator fitted sk-toggleable\"><input class=\"sk-toggleable__control sk-hidden--visually\" id=\"sk-estimator-id-7\" type=\"checkbox\" ><label for=\"sk-estimator-id-7\" class=\"sk-toggleable__label fitted sk-toggleable__label-arrow\"><div><div>UnigramPredictions</div></div></label><div class=\"sk-toggleable__content fitted\"><pre>&lt;__main__.UnigramPredictions object at 0x7977b13d3010&gt;</pre></div> </div></div><div class=\"sk-item\"><div class=\"sk-estimator fitted sk-toggleable\"><input class=\"sk-toggleable__control sk-hidden--visually\" id=\"sk-estimator-id-8\" type=\"checkbox\" ><label for=\"sk-estimator-id-8\" class=\"sk-toggleable__label fitted sk-toggleable__label-arrow\"><div><div>PartOfSpeechFeatures</div></div></label><div class=\"sk-toggleable__content fitted\"><pre>&lt;__main__.PartOfSpeechFeatures object at 0x7977b8464290&gt;</pre></div> </div></div><div class=\"sk-item\"><div class=\"sk-estimator fitted sk-toggleable\"><input class=\"sk-toggleable__control sk-hidden--visually\" id=\"sk-estimator-id-9\" type=\"checkbox\" ><label for=\"sk-estimator-id-9\" class=\"sk-toggleable__label fitted sk-toggleable__label-arrow\"><div><div>DropStringColumns</div></div></label><div class=\"sk-toggleable__content fitted\"><pre>&lt;__main__.DropStringColumns object at 0x7977b8465050&gt;</pre></div> </div></div><div class=\"sk-item\"><div class=\"sk-estimator fitted sk-toggleable\"><input class=\"sk-toggleable__control sk-hidden--visually\" id=\"sk-estimator-id-10\" type=\"checkbox\" ><label for=\"sk-estimator-id-10\" class=\"sk-toggleable__label fitted sk-toggleable__label-arrow\"><div><div>LogisticRegression</div></div><div><a class=\"sk-estimator-doc-link fitted\" rel=\"noreferrer\" target=\"_blank\" href=\"https://scikit-learn.org/1.6/modules/generated/sklearn.linear_model.LogisticRegression.html\">?<span>Documentation for LogisticRegression</span></a></div></label><div class=\"sk-toggleable__content fitted\"><pre>LogisticRegression(max_iter=1000, solver=&#x27;saga&#x27;)</pre></div> </div></div></div></div></div></div>"
            ]
          },
          "metadata": {},
          "execution_count": 20
        }
      ],
      "execution_count": 20
    },
    {
      "metadata": {
        "id": "e6e2b7aa4e457e16"
      },
      "cell_type": "markdown",
      "source": [
        "# Generate Submission"
      ],
      "id": "e6e2b7aa4e457e16"
    },
    {
      "metadata": {
        "ExecuteTime": {
          "end_time": "2025-07-20T20:54:40.064979Z",
          "start_time": "2025-07-20T20:54:22.242714Z"
        },
        "id": "59c9e6203a1fdd8b",
        "outputId": "157eb7d3-36a2-4ce7-bd11-2f04ba3090f7",
        "colab": {
          "base_uri": "https://localhost:8080/"
        }
      },
      "cell_type": "code",
      "source": [
        "submission_df = generate_submission_df(logit_all_features_pipe, test_df)\n",
        "\n",
        "print(submission_df.head())\n",
        "# print(log_history)"
      ],
      "id": "59c9e6203a1fdd8b",
      "outputs": [
        {
          "output_type": "stream",
          "name": "stdout",
          "text": [
            "        EAP       HPL       MWS       id\n",
            "0  0.031832  0.010141  0.958028  id02310\n",
            "1  0.968078  0.020386  0.011536  id24541\n",
            "2  0.013080  0.982615  0.004305  id00134\n",
            "3  0.227363  0.751181  0.021455  id27757\n",
            "4  0.878370  0.057542  0.064088  id04081\n"
          ]
        }
      ],
      "execution_count": 45
    }
  ],
  "metadata": {
    "kernelspec": {
      "display_name": "Python 3",
      "language": "python",
      "name": "python3"
    },
    "language_info": {
      "codemirror_mode": {
        "name": "ipython",
        "version": 2
      },
      "file_extension": ".py",
      "mimetype": "text/x-python",
      "name": "python",
      "nbconvert_exporter": "python",
      "pygments_lexer": "ipython2",
      "version": "2.7.6"
    },
    "colab": {
      "provenance": []
    }
  },
  "nbformat": 4,
  "nbformat_minor": 5
}